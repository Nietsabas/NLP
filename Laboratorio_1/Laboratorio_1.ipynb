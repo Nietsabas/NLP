{
  "cells": [
    {
      "cell_type": "markdown",
      "metadata": {
        "id": "NDK4HXea8U7h"
      },
      "source": [
        "# GitHub\n",
        "\n"
      ]
    },
    {
      "attachments": {},
      "cell_type": "markdown",
      "metadata": {
        "id": "zbrMqMPyncTC"
      },
      "source": [
        "# **Tarea 1 - CC6205 Natural Language Processing 📚**\n",
        "\n",
        "**Integrantes:**  Eduardo Oñate y Sebastián Versluys\n",
        "\n",
        "**Fecha límite de entrega 📆:** Martes 4 de Abril.\n",
        "\n",
        "**Tiempo estimado de dedicación:** \n",
        "\n",
        "\n"
      ]
    },
    {
      "cell_type": "markdown",
      "metadata": {
        "id": "D1HFX-9PpxF9"
      },
      "source": [
        "` ` \n",
        "\n",
        "\n",
        "Bienvenid@s a la primera tarea en el curso de Natural Language Processing (NLP). Esta tarea tiene como objetivo evaluar los contenidos teóricos de las primeras semanas de clases, enfocado principalmente en ***Information Retrieval (IR)*** y ***Vector Space Models***. Si aún no han visto las clases, se recomienda visitar los links de las referencias.\n",
        "\n",
        "La tarea consta de una parte teórica que busca evaluar conceptos vistos en clases. Seguido por una parte práctica con el fín de introducirlos a la programación en Python enfocada en NLP. \n",
        "\n",
        "` ` \n",
        "\n",
        "\n",
        "\n",
        "\n",
        "**Instrucciones:**\n",
        "- La tarea se realiza en grupos de **máximo** 2 personas. Puede ser invidivual pero no es recomendable.\n",
        "- La entrega es a través de u-cursos a más tardar el día estipulado arriba. No se aceptan atrasos.\n",
        "- El formato de entrega es este mismo Jupyter Notebook.\n",
        "- Al momento de la revisión tu código será ejecutado. Por favor verifica que tu entrega no tenga errores de compilación. \n",
        "- Está **PROHIBIDO** usar cualquier librería que implemente los algoritmos pedidos (Spacy, scikit, etc). Sólo se podrán utilizar las librerías importadas al inicio de la sección de práctica.\n",
        "- En el horario de auxiliar pueden realizar consultas acerca de la tarea a través del canal de Discord del curso. \n",
        "\n",
        "\n",
        "\n",
        "Ahora sí, empecemos! 😄🚀\n",
        "\n",
        "` ` \n",
        "\n",
        "**Referencias:**\n",
        "\n",
        "\n",
        "Slides:\n",
        "    \n",
        "- [Introducción al curso](https://github.com/dccuchile/CC6205/blob/master/slides/NLP-introduction.pdf)\n",
        "- [Vector Space Model / Information Retrieval](https://github.com/dccuchile/CC6205/blob/master/slides/NLP-IR.pdf)    \n",
        "\n",
        "Videos: \n",
        "\n",
        "- [CC6205 - Procesamiento de Lenguaje Natural: CC6205 - Procesamiento de Lenguaje Natural: Introducción parte I](https://www.youtube.com/watch?v=HEKTNOttGvU)\n",
        "- [CC6205 - Procesamiento de Lenguaje Natural: CC6205 - Procesamiento de Lenguaje Natural: Introducción parte II](https://www.youtube.com/watch?v=P8cwnI-f-Kg)\n",
        "- [CC6205 - Procesamiento de Lenguaje Natural: Vector Space Model and Information Retrieval parte 1](https://youtu.be/FXIVClF370w)\n",
        "- [CC6205 - Procesamiento de Lenguaje Natural: Vector Space Model and Information Retrieval parte 2](https://youtu.be/f8nG1EMmPZk)\n",
        "\n",
        "` ` \n",
        "\n"
      ]
    },
    {
      "cell_type": "markdown",
      "metadata": {
        "id": "hJshpe1yrKJr"
      },
      "source": [
        "## **1 - Preguntas teóricas 📕 (2 puntos).** ##\n",
        "\n",
        "\n",
        "\n",
        "\n",
        "\n",
        "\n",
        "\n"
      ]
    },
    {
      "cell_type": "markdown",
      "metadata": {
        "id": "MBEDKXBPoA7w"
      },
      "source": [
        "Las siguientes celdas contienen preguntas acerca del contenido visto en clases y en el material del curso.  Contestar cada pregunta en su celda correspondiente y **no extenderse más de 100 palabras** . 🙏\n",
        "` ` "
      ]
    },
    {
      "cell_type": "markdown",
      "metadata": {
        "id": "xNJPR1kMrw9R"
      },
      "source": [
        "**Pregunta 1 (0.2 puntos): ¿Por qué el análisis del lenguaje humano es una tarea compleja? Mencione dos razones según lo visto en clases. Debe citar la slide donde cree que está la respuesta.**\n",
        "\n",
        "\n"
      ]
    },
    {
      "attachments": {},
      "cell_type": "markdown",
      "metadata": {
        "id": "mlTBYHEptdde"
      },
      "source": [
        "` ` \n",
        "(Basándonos en la slide 16 de la introducción (Challenges of Language):\n",
        "\n",
        "**Discreteness:** en nuestro idioma no se puede comprender el significado de una palabra según el mero orden de sus letras. Por tal razón un modelo simple que solo tenga en cuenta el significante del lenguaje humano sin su significado carecerá de aplicaciones.\n",
        "\n",
        "**Compositionality:** existen infinitas combinaciones posibles de palabras para crear oraciones de significados o interpretaciones muy variadas y concretas (o no) dependiendo del contexto. Por ende un análisis más simple y secuencial (por ejemplo, basado en bigramas o trigramas) puede ser una opción muy pobre para ciertas aplicaciones.\n",
        "` ` \n"
      ]
    },
    {
      "cell_type": "markdown",
      "metadata": {
        "id": "tVMXilrYsiSZ"
      },
      "source": [
        "**Pregunta 2 (0.4 puntos): ¿Cuáles son las diferencias entre usar Deep learning y Machine Learning clásico (empirismo) para un problema de NLP? Ejemplifique con alguna task.** Puede utilizar ChatGPT (debe indicarlo) para generar la respuesta y luego debe indicar si la respuesta entregada por ChatGPT es correcta o no. Mencione por qué según lo visto en clases.\n"
      ]
    },
    {
      "attachments": {},
      "cell_type": "markdown",
      "metadata": {
        "id": "_QXWMzpTtBZL"
      },
      "source": [
        "` ` \n",
        "Por una parte el empirismo requiere la definición de características medibles con base lingüística acerca de un texto para ser posteriormente tratadas estadísticamente. Si bien es un método que se apoya en recursos computacionales para su cálculo y tratamiento, es un proceso en esencia *human made*.\n",
        "\n",
        "Por otro lado, el Deep Learning trata de encontrar representaciones vectoriales de un texto <<\"a fuerza bruta\">> propagándolo por sus capas y minimizando su función de *loss*, encontrando en él relaciones no definidas previamente por humanos. Gracias a su increíble capacidad de cómputo estas redes superan en desempeño a los métodos empíricos actualmente.\n",
        "` ` "
      ]
    },
    {
      "cell_type": "markdown",
      "metadata": {
        "id": "XXc4XuVG7Loa"
      },
      "source": [
        " **Pregunta 3 (0.4 puntos) Según las primeras clases, ¿Qué método clásico nos permite rankear las similitudes existentes entre documentos?, ¿Cómo son las representaciones que genera y problemas que podrían experimentar estas soluciones simples?** "
      ]
    },
    {
      "attachments": {},
      "cell_type": "markdown",
      "metadata": {
        "id": "rtaQ_aVE8LhH"
      },
      "source": [
        "` ` \n",
        "Para la **bolsa de palabras** se identifica el vocabulario $V$ de un corpus. Luego, todos los documentos $d_i$ a analizar pueden ser representados como vectores de la misma dimensionalidad $|V|$, donde cada coordenada corresponde a un término $t_j$ del vocabulario, cuantificando su relevancia en cada documento. Luego, los vectores pueden ser rankeados según métricas como la distancia euclidiana o su similitud coseno.\n",
        "\n",
        "La desventaja del método anterior es que implica la pérdida del **orden** de las palabras y de la estructura lingüística de un documento, careciendo de parte importante del contexto de habla y no siendo suficiente en algunas aplicaciones.\n",
        "` ` "
      ]
    },
    {
      "cell_type": "markdown",
      "metadata": {
        "id": "EKNDNy047tcY"
      },
      "source": [
        "**Pregunta 4 (0.4 puntos) Usted se encuentra realizando un modelo de clasificación de sentimientos con texto, su jefe le señala que debe eliminar las palabras mas comunes para obtener una mejor clasificación. ¿Qué palabras le señala que elimine su jefe?, ¿es acaso esto una buena idea?.** Puede utilizar ChatGPT (debe indicarlo) para generar la respuesta y luego debe indicar si la respuesta entregada por ChatGPT es correcta o no. Mencione por qué según lo visto en clases."
      ]
    },
    {
      "attachments": {},
      "cell_type": "markdown",
      "metadata": {
        "id": "cRe4QaGS8MqY"
      },
      "source": [
        "` ` \n",
        "La eliminación de stopwords podría reducir el ruido de los datos. Sin embargo, dependerá mucho de las palabras definidas como tal. En particular, algunas palabras podrían ser consideradas stopwords por su alta frecuencia de aparición (p. ej. \"no\", \"ni\", \"tampoco\", etc.), a pesar de tener un contenido semántico adversativo, interpretándose el documento de manera opuesta.\n",
        "\n",
        "Por lo anterior, estamos de acuerdo con ChatGPT al proponer realizar experimentos con y sin eliminación de stopwords. Además, recomendaríamos variar la definición de stopwords con distintos umbrales y considerando otros aspectos lingüísticos como los mencionados anteriormente para adaptarlo a la aplicación requerida.\n",
        "` ` "
      ]
    },
    {
      "cell_type": "markdown",
      "metadata": {
        "id": "uPkWmrmLHWnQ"
      },
      "source": [
        "**Pregunta 5 (0.6 puntos): Acorde al paper [A Vector Space Model for automatic indexing](https://dl.acm.org/doi/pdf/10.1145/361219.361220) un documento, $D_i$, puede ser definido formalmente como una tupla de términos, $(d_{i1}, d_{i2}, ..., d_{in})$, donde $d_{ij}$ representa el peso del j-esimo término. En clase vieron algunas formas medir los pesos de estos términos. Mencione cuales fueron y sus ventajas y desventajas.** "
      ]
    },
    {
      "attachments": {},
      "cell_type": "markdown",
      "metadata": {
        "id": "JLqRTW08SzDN"
      },
      "source": [
        "` ` \n",
        "Usando **álgebra booleana** se tiene que para un corpus $C$ con vocabulario $V$, un término $t_j \\in V$ y un documento $D_i \\in C$:\n",
        "\n",
        "$$\n",
        "d_{i,j} = \n",
        "\\begin{cases}\n",
        "1, \\text{ si } t_j \\in D_i\\\\\n",
        "0, \\text{ si } t_j \\notin D_i\n",
        "\\end{cases}.\n",
        "$$\n",
        "\n",
        "Este método es extremadamente simple de computar, aunque no discrimina la relevancia relativa entre distintos términos en un documento.\n",
        "\n",
        "Para remediarlo se usan dos factores:\n",
        "\n",
        "\n",
        "* La **frecuencia de términos** $(tf)$ normaliza y compara la frecuencia del término $t_j$ en el documento $D_i$. Mientras mayor sea, mayor relevancia.\n",
        "\n",
        "* La **frecuencia invertida de documentos** $(idf)$ caracteriza el porcentaje de documentos en un corpus donde aparece un término $t_j$. Mientras menor sea esta cantidad, mayor es el $idf$ y mayor relevancia.\n",
        "\n",
        "Luego, ambas métricas se multiplican para calcular el peso:\n",
        "\n",
        "$$\n",
        "d_{i,j} = tf_j × idf_j.\n",
        "$$\n",
        "\n",
        "A pesar de sus ventajas, esta última representacion de los documentos sigue siendo una variación de la **bolsa de palabras**, donde gran parte del contexto lingüístico de un texto es eliminado, no siendo suficiente para algunas aplicaciones.\n",
        "\n",
        "\n",
        "` ` "
      ]
    },
    {
      "cell_type": "markdown",
      "metadata": {
        "id": "6Fpsz2pQt8x5"
      },
      "source": [
        "## **2 - Preguntas prácticas 💻 (4 puntos).** ##"
      ]
    },
    {
      "cell_type": "markdown",
      "metadata": {
        "id": "YB92kQXspvbR"
      },
      "source": [
        "Esta segunda sección incluye ejercicios de programación 🤙. Leer atentamente las instrucciones entregadas a continuación para facilitar el proceso de revisión de sus trabajos.\n"
      ]
    },
    {
      "cell_type": "markdown",
      "metadata": {
        "id": "PosWgWgRxHKp"
      },
      "source": [
        "` ` \n",
        "\n",
        "**Instrucciones:**\n",
        "\n",
        "\n",
        "\n",
        "- Escribe tu código entre las lineas de comentarios **### Aquí inicia tu código ###** y **### Aquí termina tu código ###**.\n",
        "- Cuando el ejercicio incluya un bloque llamado ***Test***, comprueba que el resultado de la ejecución coincida con el resultado esperado.\n",
        "- Recuerde siempre mantener buenas prácticas de código.\n",
        "- Está permitido sólo utilizar las librerías importadas antes del Ejercicio 1.\n",
        "- **Recordar** que: *Documento = Oración. Dataset = Corpus. Vocabulario = Tokens*.\n",
        "- El **orden de los resultados** pueden variar dependiendo de su máquina, pero los valores de los resultados son los mismos.\n",
        "\n"
      ]
    },
    {
      "cell_type": "markdown",
      "metadata": {
        "id": "jBrmFHXhqUww"
      },
      "source": [
        "**Ejemplo:** Implemente una función **`hello_world()`** que imprima en pantalla `\"Hello World\"`. "
      ]
    },
    {
      "cell_type": "code",
      "execution_count": 2,
      "metadata": {
        "id": "tu7cIsawyJHx"
      },
      "outputs": [],
      "source": [
        "def hello_world():\n",
        "  ### Aquí inicia tu código ###\n",
        "  print(\"Hello World\")\n",
        "  ### Aquí termina tu código ###"
      ]
    },
    {
      "cell_type": "markdown",
      "metadata": {
        "id": "fz6klw12lwbW"
      },
      "source": [
        "***Test:***"
      ]
    },
    {
      "cell_type": "code",
      "execution_count": 3,
      "metadata": {
        "colab": {
          "base_uri": "https://localhost:8080/"
        },
        "id": "ac-WMk2dyQbp",
        "outputId": "ae30fbfd-85d5-4107-b01f-0b6f1d031610"
      },
      "outputs": [
        {
          "name": "stdout",
          "output_type": "stream",
          "text": [
            "Hello World\n"
          ]
        }
      ],
      "source": [
        "hello_world()"
      ]
    },
    {
      "cell_type": "markdown",
      "metadata": {
        "id": "fIoiAMxtyUjQ"
      },
      "source": [
        "***Resultado esperado***: \n",
        "<table>\n",
        "    <tr> \n",
        "        <td> Hello World </td> \n",
        "    </tr>\n",
        "</table> \n",
        "\n",
        "``\n",
        "``\n",
        "\n",
        "\n"
      ]
    },
    {
      "cell_type": "markdown",
      "metadata": {
        "id": "dlPyrPXiH0l4"
      },
      "source": [
        "Estas son las librerías permitidas. Si quieren utilizar alguna librería adicional, pueden realizar la consulta a través de Discord. "
      ]
    },
    {
      "cell_type": "code",
      "execution_count": 4,
      "metadata": {
        "id": "CtP6Emjo1kF0"
      },
      "outputs": [],
      "source": [
        "import codecs\n",
        "import re\n",
        "import numpy as np\n",
        "import pandas as pd"
      ]
    },
    {
      "cell_type": "markdown",
      "metadata": {
        "id": "Bj9Do0LdC9w2"
      },
      "source": [
        "En caso de desarrollar la tarea desde colab, utilizar el siguiente código para cargar los archivos desde el drive:"
      ]
    },
    {
      "cell_type": "markdown",
      "metadata": {
        "id": "tSN4bBoY2Td4"
      },
      "source": [
        "` ` \n",
        "\n",
        "**Ejercicio 1 - *Tokenización* (0.5 puntos).** \n",
        "` `  \n",
        "` ` \n",
        "\n",
        "En el primer ejercicio veremos la dificultad 😨 de tokenizar textos no estructurados, destacando la importancia de tener librerías que realicen este trabajo. \n",
        "\n",
        "El archivo adjunto al enunciado de la tarea contiene la letra de una canción del marcianeke 👽. Utilice este texto para realizar su primera tokenización y ver qué tan bien funciona su función. \n",
        "\n",
        "Ejecute el código a continuación para cargar el ejemplo. Recuerde realizar la modificación al directorio en caso que el archivo no se encuentre en el mismo directorio del Jupyter Notebook."
      ]
    },
    {
      "cell_type": "code",
      "execution_count": 5,
      "metadata": {
        "colab": {
          "base_uri": "https://localhost:8080/"
        },
        "id": "FnNUYlWo21g4",
        "outputId": "29202b0c-fd70-443b-a1b1-6d5a00ec4fde"
      },
      "outputs": [
        {
          "name": "stdout",
          "output_type": "stream",
          "text": [
            "Brr\n",
            "Marcianeke\n",
            "Vamo' a estar con Pailita\n",
            "Dimelo má\n",
            "Ando en busca de una criminal (ah, ah)\n",
            "Esa que el gatillo le gusta jalar (rata-ta)\n",
            "Que le guste flotar y fumar (brr)\n",
            "Tussi, keta quiere' mezclar\n",
            "Dimelo má\n",
            "\n",
            "Ando en busca de una criminal (ah, ah)\n",
            "Esa que el gatillo le gusta jalar (rata-ta)\n",
            "Que le guste flotar y fumar\n",
            "Tussi, keta pura quiere' mezclar\n",
            "Di-dimelo má\n",
            "Di-dimelo má\n",
            "Di-dimelo má\n",
            "Di-dimelo má\n",
            "Di-dimelo má\n",
            "Di-dimelo má\n",
            "Di-dimelo má\n",
            "\n",
            "Esperame que ahora entro yo\n",
            "Y lo que pide yo lo traje\n",
            "No visto de traje\n",
            "Puro corte calle, no de maquillaje\n",
            "Pronto coronamos y nos vamo' de viaje\n",
            "Tanto hit que hago que lo' culo bajen\n",
            "Ella se va de shopping\n",
            "Sale positivo si se hace el doping\n",
            "Baila twerk con un poco de popping\n",
            "Los fardos en el botín\n",
            "\n",
            "Si quieren letra llamen pa' mi booking\n",
            "Generando, sigo en la mía lowkey\n",
            "Cooking en el estudio con tu woman\n",
            "Tanto whisky, pisco que hasta lo' vecinos toman\n",
            "Si se tiran pa' aca puede que la arena coman\n",
            "Ja, en el chanteo titulado sin diploma\n",
            "Di-dimelo má\n",
            "Di-dimelo má\n",
            "Di-dimelo má\n",
            "Di-dimelo má\n",
            "Di-dimelo má\n",
            "Di-dimelo má\n",
            "Di-dimelo má\n",
            "\n",
            "Ah, pe-peligrosa\n",
            "Quiero ver como perreando me acosa\n",
            "Eso de atra' con el Gucci me lo roza\n",
            "Tengo tussi del naranjo me aburrio el rosa\n",
            "Capaz que tosa con el blunt\n",
            "Sprite con Flemibron\n",
            "Louis Vuitton, le quito la polera Champion\n",
            "A tu pretendiente con la fory lo espanto\n",
            "Puro perro, le doy de comer Champion Dog\n",
            "Ese toto lo corono yo\n",
            "La movie en play no hay stop\n",
            "Flow de sobra no hay stock\n",
            "Me la topo en la disco queda en shock\n",
            "My love, rica en las redes y en persona\n",
            "No usa Photoshop\n",
            "La llevo a comprar blone' al growshop\n",
            "En ropa interior los do'\n",
            "Me roza su vicky con mi boxer Top\n",
            "Dimelo má\n",
            "Ando en busca de una cri\n",
            "minal (ah, ah)\n",
            "Esa que el gatillo le gusta jalar (rata-ta)\n",
            "Que le guste flotar y fumar\n",
            "Tussi, keta quiere' mezclar\n",
            "Dimelo má\n",
            "\n",
            "Ando en busca de una criminal (ah, ah)\n",
            "Esa que el gatillo le gusta jalar (rata-ta)\n",
            "Que le guste flotar y fumar\n",
            "Tussi, keta pura quiere' mezclar\n",
            "Marcianeke, Pailita\n",
            "Young Varas\n"
          ]
        }
      ],
      "source": [
        "text = codecs.open('marcianeke.txt', 'r', 'UTF-8').read()\n",
        "print(text)"
      ]
    },
    {
      "cell_type": "markdown",
      "metadata": {
        "id": "UIaOYzMk3v1X"
      },
      "source": [
        "Implementen una función **`get_tokens()`** que reciba un texto y entregue una lista con sus tokens. Son libres de elegir la forma de tokenizar mientras no utilicen librerías con tokenizadores ya implementados. Pueden utilizar la librería **re** importada para trabajar símbolos.\n"
      ]
    },
    {
      "cell_type": "markdown",
      "metadata": {
        "id": "5dl42-hgIhqB"
      },
      "source": [
        "Ejemplo de uso:\n",
        "\n",
        "`get_tokens('Este es un ejemplo de prueba.')` \n",
        "\n",
        "Nos entregaría:\n",
        "\n",
        "`['Este', 'es', 'un', 'ejemplo', 'de', 'prueba', '.']`"
      ]
    },
    {
      "cell_type": "code",
      "execution_count": 6,
      "metadata": {
        "id": "r0Ucs70-6VvD"
      },
      "outputs": [],
      "source": [
        "def get_tokens(text):\n",
        "  ### Inicio del código ###\"\n",
        "\n",
        "  recopilador_palabras = []\n",
        "\n",
        "  symbols = '!\"#$%&/()=?¡¿\\/´+}{-_[¨~^`|¬°*].,;:'\n",
        "  symbol_2 = \"'\"\n",
        "  saltos_linea = '\\n\\r'\n",
        "  saltos_linea_2 = '\\r'\n",
        "  espacio_entre_parrafos = ''\n",
        "  separador_palabras = ' '\n",
        "  \n",
        "  inicio_palabra = 0\n",
        "\n",
        "  for fin_palabra in range(len(text)):\n",
        "\n",
        "    espacio = text[fin_palabra] == separador_palabras\n",
        "    simbolo = (text[fin_palabra] in symbols) or text[fin_palabra] == symbol_2\n",
        "    salto_de_linea = text[fin_palabra] in saltos_linea\n",
        "    \n",
        "    if espacio or simbolo or salto_de_linea:\n",
        "\n",
        "      nueva_palabra =  text[inicio_palabra:fin_palabra]\n",
        "\n",
        "      # Si es un espacio o un simbolo guardamos la palabra que antecede\n",
        "      if nueva_palabra != '':\n",
        "        recopilador_palabras.append(nueva_palabra)\n",
        "      \n",
        "      # Si era un simbolo lo agregamos\n",
        "      if simbolo:\n",
        "        recopilador_palabras.append(text[fin_palabra])\n",
        "      \n",
        "      inicio_palabra = fin_palabra + 1\n",
        "\n",
        "  # Al final del texto hay que corroborar que exista una palabra\n",
        "  if (not simbolo) and (not salto_de_linea):\n",
        "    palabra_a_agregar = text[inicio_palabra:fin_palabra+1]\n",
        "    recopilador_palabras.append(palabra_a_agregar)\n",
        "\n",
        "  return recopilador_palabras\n",
        "\n",
        "  ### Fin del código ###"
      ]
    },
    {
      "cell_type": "code",
      "execution_count": 26,
      "metadata": {
        "colab": {
          "base_uri": "https://localhost:8080/"
        },
        "id": "KqlSpefv4_EH",
        "outputId": "042bea56-dc2f-48a7-f7c8-549b3709449f"
      },
      "outputs": [],
      "source": [
        "tokens = get_tokens(text)"
      ]
    },
    {
      "cell_type": "markdown",
      "metadata": {
        "id": "TPbgTvAW-stF"
      },
      "source": [
        "**Describa cuáles fueron sus supuestos para realizar la tokenización y compare sus tokens con los entregados por la librería nltk en el bloque de código de más abajo.**"
      ]
    },
    {
      "attachments": {},
      "cell_type": "markdown",
      "metadata": {
        "id": "jGQ7CJy3-3aH"
      },
      "source": [
        "Los supuestos que se tomaron para la tokenización, fue que todos los símbolos que se tomaban en consideración eran: ['!\"#$%&/()=?¡¿\\/´+}{-_[¨~^`|¬°*].,;:'], además de lso saltos de linea '\\n' y '\\r'. Se tuvo que crear una variable aparte que considerara la comilla única, es decir \"'\".\n",
        "\n",
        "Se considera que todas las palabras que se le pasó a la función existen o tienen un significado linguístico. Además que no existan números entre medio de las palabras.\n"
      ]
    },
    {
      "cell_type": "code",
      "execution_count": 28,
      "metadata": {
        "colab": {
          "base_uri": "https://localhost:8080/"
        },
        "id": "YYtmAXTr9KXK",
        "outputId": "dd78c572-40f1-4944-bd71-8bdd4c4b753a"
      },
      "outputs": [
        {
          "data": {
            "text/plain": [
              "True"
            ]
          },
          "execution_count": 28,
          "metadata": {},
          "output_type": "execute_result"
        }
      ],
      "source": [
        "from nltk.tokenize import wordpunct_tokenize \n",
        "\n",
        "nltk_tokens = wordpunct_tokenize(text)\n",
        "nltk_tokens == tokens"
      ]
    },
    {
      "cell_type": "markdown",
      "metadata": {
        "id": "s5QKlXAZwN1L"
      },
      "source": [
        "` `  \n",
        "` ` \n",
        "\n",
        "**Ejercicio 2 - *Stopwords y Stemming* (1 punto).** \n",
        "` `  \n",
        "` ` \n",
        "\n",
        "Considere el siguiente corpus:\n"
      ]
    },
    {
      "cell_type": "code",
      "execution_count": 40,
      "metadata": {
        "id": "sEp83zESwb2j"
      },
      "outputs": [],
      "source": [
        "dataset = [\"I like human languages\", \"I like programming languages\", \"Spanish is my favorite language\"]"
      ]
    },
    {
      "cell_type": "markdown",
      "metadata": {
        "id": "gmjdlJWuyS2E"
      },
      "source": [
        "Diseñe una función **`get_vocab()`** que extraiga los tokens de este corpus solamente tokenizando. Puede utilizar la función del Ejercicio 1."
      ]
    },
    {
      "cell_type": "code",
      "execution_count": 41,
      "metadata": {
        "id": "UudC-b6TzZgw"
      },
      "outputs": [],
      "source": [
        "def get_vocab(dataset):\n",
        "  ### Aquí inicia tu código ###\n",
        "\n",
        "  lista_palabras = []\n",
        "\n",
        "  for frases in dataset:\n",
        "    tokens_por_frase = get_tokens(frases)\n",
        "    \n",
        "    for token in tokens_por_frase:\n",
        "\n",
        "      if token not in lista_palabras:\n",
        "        lista_palabras.append(token)\n",
        "\n",
        "  return lista_palabras\n",
        "  ### Aquí termina tu código ###"
      ]
    },
    {
      "cell_type": "markdown",
      "metadata": {
        "id": "5-m32IoNmSwM"
      },
      "source": [
        "***Test:***"
      ]
    },
    {
      "cell_type": "code",
      "execution_count": 42,
      "metadata": {
        "colab": {
          "base_uri": "https://localhost:8080/"
        },
        "id": "BNzPKiAx0Aa1",
        "outputId": "9eaddb71-f474-42ff-c4e7-36bfa50509b1"
      },
      "outputs": [
        {
          "data": {
            "text/plain": [
              "['I',\n",
              " 'like',\n",
              " 'human',\n",
              " 'languages',\n",
              " 'programming',\n",
              " 'Spanish',\n",
              " 'is',\n",
              " 'my',\n",
              " 'favorite',\n",
              " 'language']"
            ]
          },
          "execution_count": 42,
          "metadata": {},
          "output_type": "execute_result"
        }
      ],
      "source": [
        "vocab = get_vocab(dataset)\n",
        "vocab"
      ]
    },
    {
      "cell_type": "markdown",
      "metadata": {
        "id": "qZLV2hWf9FN7"
      },
      "source": [
        "``\n",
        "``\n",
        "\n",
        "***Resultado esperado***: \n",
        "<table>\n",
        "    <tr> \n",
        "        <td>['favorite',\n",
        " 'Spanish',\n",
        " 'language',\n",
        " 'I',\n",
        " 'like',\n",
        " 'programming',\n",
        " 'languages',\n",
        " 'my',\n",
        " 'human',\n",
        " 'is'] </td> \n",
        "    </tr>\n",
        "</table> \n",
        "\n",
        "``\n",
        "``"
      ]
    },
    {
      "cell_type": "markdown",
      "metadata": {
        "id": "L3KB0fL2zk2v"
      },
      "source": [
        "Ahora diseñe reglas que usted estime convenientes tanto de **Stemming** como de **Stopwords**. Implemente una función que reciba una lista con los elementos del vocabulario, le aplique sus reglas y devuelva el vocabulario actualizado. "
      ]
    },
    {
      "attachments": {},
      "cell_type": "markdown",
      "metadata": {
        "id": "iY7g67Ml0aby"
      },
      "source": [
        "    Explique sus reglas aquí:\n",
        "\n",
        "    Stopwords: Se eliminarán las palabras con menos de 2 letras, ya que se considerarán como pronombres o artículos.\n",
        "\n",
        "    Stemming: Si existe el uso de una palabra tanto en singular como en plural, solo se tomará el caso singular. Para ello se verificarán aquellas palabras terminadas en s.\n"
      ]
    },
    {
      "cell_type": "code",
      "execution_count": 46,
      "metadata": {
        "id": "CwQS8lcLJczI"
      },
      "outputs": [],
      "source": [
        "def pre_processing(vocab):\n",
        "  ### Aquí inicia tu código ###\n",
        "  for palabra in vocab:\n",
        "\n",
        "    if len(palabra) <= 2:\n",
        "      vocab.remove(palabra)\n",
        "\n",
        "    elif palabra[-1] == 's':\n",
        "      if palabra[:-1] in vocab:\n",
        "        vocab.remove(palabra)\n",
        "  \n",
        "  return vocab\n",
        "\n",
        "  ### Aquí termina tu código ###\n",
        "    "
      ]
    },
    {
      "cell_type": "code",
      "execution_count": 47,
      "metadata": {
        "id": "onOSuS-_mL2F"
      },
      "outputs": [
        {
          "data": {
            "text/plain": [
              "['like', 'human', 'programming', 'Spanish', 'favorite', 'language']"
            ]
          },
          "execution_count": 47,
          "metadata": {},
          "output_type": "execute_result"
        }
      ],
      "source": [
        "vocab = pre_processing(vocab)\n",
        "vocab"
      ]
    },
    {
      "cell_type": "markdown",
      "metadata": {
        "id": "65IwHx11uA75"
      },
      "source": [
        "\n",
        "**Ejercicio 3 - *Bag of Words* 🐶🐈(0.5 puntos).** \n",
        " \n",
        "\n",
        "\n",
        "Considere el siguiente corpus, donde cada elemento del arreglo representa un documento:\n",
        "\n",
        "**disclaimer: El orden de los resultados pueden variar**"
      ]
    },
    {
      "cell_type": "code",
      "execution_count": 16,
      "metadata": {
        "id": "Rh-utMuozhsK"
      },
      "outputs": [],
      "source": [
        "d0 = 'El perro se come la comida y después se duerme'\n",
        "d1 = 'El perro se despierta y después empieza a ladrar'\n",
        "d2 = 'El perro ladra y después se come la comida'\n",
        "d3 = 'El gato se come la comida y después se duerme'\n",
        "d4 = 'El gato se despierta y después empieza a maullar'\n",
        "d5 = 'El gato maulla y después se come la comida'\n",
        "dataset = [d0, d1, d2, d3, d4, d5]"
      ]
    },
    {
      "cell_type": "markdown",
      "metadata": {
        "id": "WH7ne8C6ltvE"
      },
      "source": [
        "El objetivo de este ejercicio es determinar cuáles de  los documentos entregados son los más similares entre sí. Para ello utilizaremos la técnica TF-IDF. \n",
        "\n",
        "Como los algoritmos de Machine Learning no comprenden el texto en lenguaje natural, estos documentos deben ser convertidos a vectores numéricos. La representación más simple vista en clases es el **Bag of Words**, método mediante el cuál se cuentan las apariciones de cada palabra en cada uno de los documentos entregados.\n",
        "\n",
        "Implemente la función **`bag_of_words()`**, que reciba como input un arreglo de documentos y devuelva un pandas dataframe con la representación Bag of Words de los documentos entregados. En esta representación las columnas son el vocabulario y las filas representa las apariciones de cada una de las palabras en los documentos. En otras palabras, cada fila representa el bow de un determinado documento.\n",
        "\n",
        "\n",
        "Por ejemplo para el siguiente dataset: \n",
        "\n",
        "```\n",
        "dataset = ['El perro ladra', 'El perro come']\n",
        "```\n",
        "\n",
        "Debiese entregarnos lo siguiente:\n",
        "\n",
        "\n",
        "|   | el | perro | ladra | come |\n",
        "|---|----|-------|------|-------|\n",
        "| 0 | 1  | 1     | 1    | 0     |\n",
        "| 1 | 1  | 1     | 0    | 1     |\n",
        "\n"
      ]
    },
    {
      "cell_type": "code",
      "execution_count": 17,
      "metadata": {
        "id": "kXDMAyFmnq5j"
      },
      "outputs": [],
      "source": [
        "def bag_of_words(dataset):\n",
        "  ### Aquí inicia tu código ###\n",
        "\n",
        "  resultado = pd.DataFrame(dtype = int)\n",
        "\n",
        "  # Se recorren todos los datasets\n",
        "  for frases in dataset:\n",
        "\n",
        "    # Diccionario servira para llevar la cuenta de las palabras\n",
        "    # palabras servira para saber que palabras se han usado\n",
        "    diccionario = {}\n",
        "    key_words = []\n",
        "\n",
        "    # Se obtienen los tokens de cada palabra\n",
        "    palabras = get_tokens(frases)\n",
        "    for token in palabras:\n",
        "      # Si la palabra no fue utilizada, se crea el contador en el diccionario\n",
        "      if token not in key_words:\n",
        "        diccionario[token] = [1]\n",
        "        key_words.append(token)\n",
        "\n",
        "      # Si la palabra ya se usó, se agrega 1 al contador\n",
        "      else:\n",
        "        diccionario[token][0] += 1\n",
        "\n",
        "    resultado_temp = pd.DataFrame(diccionario,dtype = int)\n",
        "    resultado = pd.concat([resultado,resultado_temp]).fillna(0).astype(int)\n",
        "\n",
        "  lista_filas = pd.Index([f'd{di}' for di in range(len(dataset))])\n",
        "  resultado = resultado.set_index(lista_filas, drop=True)\n",
        "\n",
        "  return resultado\n",
        "  \n",
        "  ### Aquí termina tu código ###"
      ]
    },
    {
      "cell_type": "markdown",
      "metadata": {
        "id": "okfo-nEQmW1R"
      },
      "source": [
        "***Test:***"
      ]
    },
    {
      "cell_type": "code",
      "execution_count": 18,
      "metadata": {
        "colab": {
          "base_uri": "https://localhost:8080/",
          "height": 237
        },
        "id": "T_Kk9GwCoDW8",
        "outputId": "50d1f061-1c3e-4a9a-f504-d37956b909de"
      },
      "outputs": [
        {
          "data": {
            "text/html": [
              "<div>\n",
              "<style scoped>\n",
              "    .dataframe tbody tr th:only-of-type {\n",
              "        vertical-align: middle;\n",
              "    }\n",
              "\n",
              "    .dataframe tbody tr th {\n",
              "        vertical-align: top;\n",
              "    }\n",
              "\n",
              "    .dataframe thead th {\n",
              "        text-align: right;\n",
              "    }\n",
              "</style>\n",
              "<table border=\"1\" class=\"dataframe\">\n",
              "  <thead>\n",
              "    <tr style=\"text-align: right;\">\n",
              "      <th></th>\n",
              "      <th>El</th>\n",
              "      <th>perro</th>\n",
              "      <th>se</th>\n",
              "      <th>come</th>\n",
              "      <th>la</th>\n",
              "      <th>comida</th>\n",
              "      <th>y</th>\n",
              "      <th>después</th>\n",
              "      <th>duerme</th>\n",
              "      <th>despierta</th>\n",
              "      <th>empieza</th>\n",
              "      <th>a</th>\n",
              "      <th>ladrar</th>\n",
              "      <th>ladra</th>\n",
              "      <th>gato</th>\n",
              "      <th>maullar</th>\n",
              "      <th>maulla</th>\n",
              "    </tr>\n",
              "  </thead>\n",
              "  <tbody>\n",
              "    <tr>\n",
              "      <th>d0</th>\n",
              "      <td>1</td>\n",
              "      <td>1</td>\n",
              "      <td>2</td>\n",
              "      <td>1</td>\n",
              "      <td>1</td>\n",
              "      <td>1</td>\n",
              "      <td>1</td>\n",
              "      <td>1</td>\n",
              "      <td>1</td>\n",
              "      <td>0</td>\n",
              "      <td>0</td>\n",
              "      <td>0</td>\n",
              "      <td>0</td>\n",
              "      <td>0</td>\n",
              "      <td>0</td>\n",
              "      <td>0</td>\n",
              "      <td>0</td>\n",
              "    </tr>\n",
              "    <tr>\n",
              "      <th>d1</th>\n",
              "      <td>1</td>\n",
              "      <td>1</td>\n",
              "      <td>1</td>\n",
              "      <td>0</td>\n",
              "      <td>0</td>\n",
              "      <td>0</td>\n",
              "      <td>1</td>\n",
              "      <td>1</td>\n",
              "      <td>0</td>\n",
              "      <td>1</td>\n",
              "      <td>1</td>\n",
              "      <td>1</td>\n",
              "      <td>1</td>\n",
              "      <td>0</td>\n",
              "      <td>0</td>\n",
              "      <td>0</td>\n",
              "      <td>0</td>\n",
              "    </tr>\n",
              "    <tr>\n",
              "      <th>d2</th>\n",
              "      <td>1</td>\n",
              "      <td>1</td>\n",
              "      <td>1</td>\n",
              "      <td>1</td>\n",
              "      <td>1</td>\n",
              "      <td>1</td>\n",
              "      <td>1</td>\n",
              "      <td>1</td>\n",
              "      <td>0</td>\n",
              "      <td>0</td>\n",
              "      <td>0</td>\n",
              "      <td>0</td>\n",
              "      <td>0</td>\n",
              "      <td>1</td>\n",
              "      <td>0</td>\n",
              "      <td>0</td>\n",
              "      <td>0</td>\n",
              "    </tr>\n",
              "    <tr>\n",
              "      <th>d3</th>\n",
              "      <td>1</td>\n",
              "      <td>0</td>\n",
              "      <td>2</td>\n",
              "      <td>1</td>\n",
              "      <td>1</td>\n",
              "      <td>1</td>\n",
              "      <td>1</td>\n",
              "      <td>1</td>\n",
              "      <td>1</td>\n",
              "      <td>0</td>\n",
              "      <td>0</td>\n",
              "      <td>0</td>\n",
              "      <td>0</td>\n",
              "      <td>0</td>\n",
              "      <td>1</td>\n",
              "      <td>0</td>\n",
              "      <td>0</td>\n",
              "    </tr>\n",
              "    <tr>\n",
              "      <th>d4</th>\n",
              "      <td>1</td>\n",
              "      <td>0</td>\n",
              "      <td>1</td>\n",
              "      <td>0</td>\n",
              "      <td>0</td>\n",
              "      <td>0</td>\n",
              "      <td>1</td>\n",
              "      <td>1</td>\n",
              "      <td>0</td>\n",
              "      <td>1</td>\n",
              "      <td>1</td>\n",
              "      <td>1</td>\n",
              "      <td>0</td>\n",
              "      <td>0</td>\n",
              "      <td>1</td>\n",
              "      <td>1</td>\n",
              "      <td>0</td>\n",
              "    </tr>\n",
              "    <tr>\n",
              "      <th>d5</th>\n",
              "      <td>1</td>\n",
              "      <td>0</td>\n",
              "      <td>1</td>\n",
              "      <td>1</td>\n",
              "      <td>1</td>\n",
              "      <td>1</td>\n",
              "      <td>1</td>\n",
              "      <td>1</td>\n",
              "      <td>0</td>\n",
              "      <td>0</td>\n",
              "      <td>0</td>\n",
              "      <td>0</td>\n",
              "      <td>0</td>\n",
              "      <td>0</td>\n",
              "      <td>1</td>\n",
              "      <td>0</td>\n",
              "      <td>1</td>\n",
              "    </tr>\n",
              "  </tbody>\n",
              "</table>\n",
              "</div>"
            ],
            "text/plain": [
              "    El  perro  se  come  la  comida  y  después  duerme  despierta  empieza  \\\n",
              "d0   1      1   2     1   1       1  1        1       1          0        0   \n",
              "d1   1      1   1     0   0       0  1        1       0          1        1   \n",
              "d2   1      1   1     1   1       1  1        1       0          0        0   \n",
              "d3   1      0   2     1   1       1  1        1       1          0        0   \n",
              "d4   1      0   1     0   0       0  1        1       0          1        1   \n",
              "d5   1      0   1     1   1       1  1        1       0          0        0   \n",
              "\n",
              "    a  ladrar  ladra  gato  maullar  maulla  \n",
              "d0  0       0      0     0        0       0  \n",
              "d1  1       1      0     0        0       0  \n",
              "d2  0       0      1     0        0       0  \n",
              "d3  0       0      0     1        0       0  \n",
              "d4  1       0      0     1        1       0  \n",
              "d5  0       0      0     1        0       1  "
            ]
          },
          "execution_count": 18,
          "metadata": {},
          "output_type": "execute_result"
        }
      ],
      "source": [
        "dataset_bow = bag_of_words(dataset)\n",
        "dataset_bow"
      ]
    },
    {
      "cell_type": "markdown",
      "metadata": {
        "id": "oeR5ADGz-MPa"
      },
      "source": [
        "``\n",
        "``\n",
        "\n",
        "***Resultado esperado***: \n",
        "\n",
        "|    | El | perro | se | come | la | comida | y | después | duerme | despierta | empieza | a | ladrar | ladra | gato | maullar | maulla |\n",
        "|----|---:|------:|---:|-----:|---:|-------:|--:|--------:|-------:|----------:|--------:|--:|-------:|------:|-----:|--------:|-------:|\n",
        "| d0 |  1 |     1 |  2 |    1 |  1 |      1 | 1 |       1 |      1 |         0 |       0 | 0 |      0 |     0 |    0 |       0 |      0 |\n",
        "| d1 |  1 |     1 |  1 |    0 |  0 |      0 | 1 |       1 |      0 |         1 |       1 | 1 |      1 |     0 |    0 |       0 |      0 |\n",
        "| d2 |  1 |     1 |  1 |    1 |  1 |      1 | 1 |       1 |      0 |         0 |       0 | 0 |      0 |     1 |    0 |       0 |      0 |\n",
        "| d3 |  1 |     0 |  2 |    1 |  1 |      1 | 1 |       1 |      1 |         0 |       0 | 0 |      0 |     0 |    1 |       0 |      0 |\n",
        "| d4 |  1 |     0 |  1 |    0 |  0 |      0 | 1 |       1 |      0 |         1 |       1 | 1 |      0 |     0 |    1 |       1 |      0 |\n",
        "| d5 |  1 |     0 |  1 |    1 |  1 |      1 | 1 |       1 |      0 |         0 |       0 | 0 |      0 |     0 |    1 |       0 |      1 |\n",
        "\n",
        "``\n",
        "``"
      ]
    },
    {
      "cell_type": "markdown",
      "metadata": {
        "id": "K4OXMz7opWcd"
      },
      "source": [
        "` `  \n",
        "` ` \n",
        "\n",
        "**Ejercicio 4 - *Calcular TF* (0.5 puntos):** Ahora debemos usar el dataframe del ejercicio anterior para calcular la matriz de TF normalizada por la máxima frecuencia ${max_i({\\text{tf}_{i,j})}}$, donde\n",
        "i corresponde al índice de las filas (bow) y j al de las columnas (palabras). Es decir, dividir cada bow en la cantidad de veces de la palabra que aparezca más veces en ese vector. \n",
        "\n",
        "\n",
        "$$\\text{nft}_{i,j} = \\frac{\\text{tf}_{i,j}}{max_i({\\text{tf}_{i,j})}}$$"
      ]
    },
    {
      "cell_type": "code",
      "execution_count": 19,
      "metadata": {
        "id": "xWE16xhBpswc"
      },
      "outputs": [],
      "source": [
        "def calc_tf(dataset_bow):\n",
        "    ### Aquí inicia tu código ###\n",
        "    for fila in dataset_bow.index:\n",
        "      df_row = dataset_bow.loc[fila]\n",
        "      row_max = max(df_row)\n",
        "      dataset_bow.loc[fila] = df_row/row_max\n",
        "    return dataset_bow\n",
        "    ### Aquí termina tu código ###"
      ]
    },
    {
      "cell_type": "markdown",
      "metadata": {
        "id": "AZQPZe3JmYqy"
      },
      "source": [
        "***Test:***"
      ]
    },
    {
      "cell_type": "code",
      "execution_count": 20,
      "metadata": {
        "colab": {
          "base_uri": "https://localhost:8080/",
          "height": 237
        },
        "id": "YQ2h8jEYp4nZ",
        "outputId": "5bfed2b8-cb82-46f3-98ce-f0689578e829"
      },
      "outputs": [
        {
          "data": {
            "text/html": [
              "<div>\n",
              "<style scoped>\n",
              "    .dataframe tbody tr th:only-of-type {\n",
              "        vertical-align: middle;\n",
              "    }\n",
              "\n",
              "    .dataframe tbody tr th {\n",
              "        vertical-align: top;\n",
              "    }\n",
              "\n",
              "    .dataframe thead th {\n",
              "        text-align: right;\n",
              "    }\n",
              "</style>\n",
              "<table border=\"1\" class=\"dataframe\">\n",
              "  <thead>\n",
              "    <tr style=\"text-align: right;\">\n",
              "      <th></th>\n",
              "      <th>El</th>\n",
              "      <th>perro</th>\n",
              "      <th>se</th>\n",
              "      <th>come</th>\n",
              "      <th>la</th>\n",
              "      <th>comida</th>\n",
              "      <th>y</th>\n",
              "      <th>después</th>\n",
              "      <th>duerme</th>\n",
              "      <th>despierta</th>\n",
              "      <th>empieza</th>\n",
              "      <th>a</th>\n",
              "      <th>ladrar</th>\n",
              "      <th>ladra</th>\n",
              "      <th>gato</th>\n",
              "      <th>maullar</th>\n",
              "      <th>maulla</th>\n",
              "    </tr>\n",
              "  </thead>\n",
              "  <tbody>\n",
              "    <tr>\n",
              "      <th>d0</th>\n",
              "      <td>0.5</td>\n",
              "      <td>0.5</td>\n",
              "      <td>1.0</td>\n",
              "      <td>0.5</td>\n",
              "      <td>0.5</td>\n",
              "      <td>0.5</td>\n",
              "      <td>0.5</td>\n",
              "      <td>0.5</td>\n",
              "      <td>0.5</td>\n",
              "      <td>0.0</td>\n",
              "      <td>0.0</td>\n",
              "      <td>0.0</td>\n",
              "      <td>0.0</td>\n",
              "      <td>0.0</td>\n",
              "      <td>0.0</td>\n",
              "      <td>0.0</td>\n",
              "      <td>0.0</td>\n",
              "    </tr>\n",
              "    <tr>\n",
              "      <th>d1</th>\n",
              "      <td>1.0</td>\n",
              "      <td>1.0</td>\n",
              "      <td>1.0</td>\n",
              "      <td>0.0</td>\n",
              "      <td>0.0</td>\n",
              "      <td>0.0</td>\n",
              "      <td>1.0</td>\n",
              "      <td>1.0</td>\n",
              "      <td>0.0</td>\n",
              "      <td>1.0</td>\n",
              "      <td>1.0</td>\n",
              "      <td>1.0</td>\n",
              "      <td>1.0</td>\n",
              "      <td>0.0</td>\n",
              "      <td>0.0</td>\n",
              "      <td>0.0</td>\n",
              "      <td>0.0</td>\n",
              "    </tr>\n",
              "    <tr>\n",
              "      <th>d2</th>\n",
              "      <td>1.0</td>\n",
              "      <td>1.0</td>\n",
              "      <td>1.0</td>\n",
              "      <td>1.0</td>\n",
              "      <td>1.0</td>\n",
              "      <td>1.0</td>\n",
              "      <td>1.0</td>\n",
              "      <td>1.0</td>\n",
              "      <td>0.0</td>\n",
              "      <td>0.0</td>\n",
              "      <td>0.0</td>\n",
              "      <td>0.0</td>\n",
              "      <td>0.0</td>\n",
              "      <td>1.0</td>\n",
              "      <td>0.0</td>\n",
              "      <td>0.0</td>\n",
              "      <td>0.0</td>\n",
              "    </tr>\n",
              "    <tr>\n",
              "      <th>d3</th>\n",
              "      <td>0.5</td>\n",
              "      <td>0.0</td>\n",
              "      <td>1.0</td>\n",
              "      <td>0.5</td>\n",
              "      <td>0.5</td>\n",
              "      <td>0.5</td>\n",
              "      <td>0.5</td>\n",
              "      <td>0.5</td>\n",
              "      <td>0.5</td>\n",
              "      <td>0.0</td>\n",
              "      <td>0.0</td>\n",
              "      <td>0.0</td>\n",
              "      <td>0.0</td>\n",
              "      <td>0.0</td>\n",
              "      <td>0.5</td>\n",
              "      <td>0.0</td>\n",
              "      <td>0.0</td>\n",
              "    </tr>\n",
              "    <tr>\n",
              "      <th>d4</th>\n",
              "      <td>1.0</td>\n",
              "      <td>0.0</td>\n",
              "      <td>1.0</td>\n",
              "      <td>0.0</td>\n",
              "      <td>0.0</td>\n",
              "      <td>0.0</td>\n",
              "      <td>1.0</td>\n",
              "      <td>1.0</td>\n",
              "      <td>0.0</td>\n",
              "      <td>1.0</td>\n",
              "      <td>1.0</td>\n",
              "      <td>1.0</td>\n",
              "      <td>0.0</td>\n",
              "      <td>0.0</td>\n",
              "      <td>1.0</td>\n",
              "      <td>1.0</td>\n",
              "      <td>0.0</td>\n",
              "    </tr>\n",
              "    <tr>\n",
              "      <th>d5</th>\n",
              "      <td>1.0</td>\n",
              "      <td>0.0</td>\n",
              "      <td>1.0</td>\n",
              "      <td>1.0</td>\n",
              "      <td>1.0</td>\n",
              "      <td>1.0</td>\n",
              "      <td>1.0</td>\n",
              "      <td>1.0</td>\n",
              "      <td>0.0</td>\n",
              "      <td>0.0</td>\n",
              "      <td>0.0</td>\n",
              "      <td>0.0</td>\n",
              "      <td>0.0</td>\n",
              "      <td>0.0</td>\n",
              "      <td>1.0</td>\n",
              "      <td>0.0</td>\n",
              "      <td>1.0</td>\n",
              "    </tr>\n",
              "  </tbody>\n",
              "</table>\n",
              "</div>"
            ],
            "text/plain": [
              "     El  perro   se  come   la  comida    y  después  duerme  despierta  \\\n",
              "d0  0.5    0.5  1.0   0.5  0.5     0.5  0.5      0.5     0.5        0.0   \n",
              "d1  1.0    1.0  1.0   0.0  0.0     0.0  1.0      1.0     0.0        1.0   \n",
              "d2  1.0    1.0  1.0   1.0  1.0     1.0  1.0      1.0     0.0        0.0   \n",
              "d3  0.5    0.0  1.0   0.5  0.5     0.5  0.5      0.5     0.5        0.0   \n",
              "d4  1.0    0.0  1.0   0.0  0.0     0.0  1.0      1.0     0.0        1.0   \n",
              "d5  1.0    0.0  1.0   1.0  1.0     1.0  1.0      1.0     0.0        0.0   \n",
              "\n",
              "    empieza    a  ladrar  ladra  gato  maullar  maulla  \n",
              "d0      0.0  0.0     0.0    0.0   0.0      0.0     0.0  \n",
              "d1      1.0  1.0     1.0    0.0   0.0      0.0     0.0  \n",
              "d2      0.0  0.0     0.0    1.0   0.0      0.0     0.0  \n",
              "d3      0.0  0.0     0.0    0.0   0.5      0.0     0.0  \n",
              "d4      1.0  1.0     0.0    0.0   1.0      1.0     0.0  \n",
              "d5      0.0  0.0     0.0    0.0   1.0      0.0     1.0  "
            ]
          },
          "execution_count": 20,
          "metadata": {},
          "output_type": "execute_result"
        }
      ],
      "source": [
        "tf = calc_tf(dataset_bow)\n",
        "tf"
      ]
    },
    {
      "cell_type": "markdown",
      "metadata": {
        "id": "TOzdRwx9_UMM"
      },
      "source": [
        "``\n",
        "``\n",
        "\n",
        "***Resultado esperado***: \n",
        "\n",
        "|    |  El | perro |  se | come |  la | comida |   y | después | duerme | despierta | empieza |   a | ladrar | ladra | gato | maullar | maulla |\n",
        "|----|----:|------:|----:|-----:|----:|-------:|----:|--------:|-------:|----------:|--------:|----:|-------:|------:|-----:|--------:|-------:|\n",
        "| d0 | 0.5 |   0.5 | 1.0 |  0.5 | 0.5 |    0.5 | 0.5 |     0.5 |    0.5 |       0.0 |     0.0 | 0.0 |    0.0 |   0.0 |  0.0 |     0.0 |    0.0 |\n",
        "| d1 | 1.0 |   1.0 | 1.0 |  0.0 | 0.0 |    0.0 | 1.0 |     1.0 |    0.0 |       1.0 |     1.0 | 1.0 |    1.0 |   0.0 |  0.0 |     0.0 |    0.0 |\n",
        "| d2 | 1.0 |   1.0 | 1.0 |  1.0 | 1.0 |    1.0 | 1.0 |     1.0 |    0.0 |       0.0 |     0.0 | 0.0 |    0.0 |   1.0 |  0.0 |     0.0 |    0.0 |\n",
        "| d3 | 0.5 |   0.0 | 1.0 |  0.5 | 0.5 |    0.5 | 0.5 |     0.5 |    0.5 |       0.0 |     0.0 | 0.0 |    0.0 |   0.0 |  0.5 |     0.0 |    0.0 |\n",
        "| d4 | 1.0 |   0.0 | 1.0 |  0.0 | 0.0 |    0.0 | 1.0 |     1.0 |    0.0 |       1.0 |     1.0 | 1.0 |    0.0 |   0.0 |  1.0 |     1.0 |    0.0 |\n",
        "| d5 | 1.0 |   0.0 | 1.0 |  1.0 | 1.0 |    1.0 | 1.0 |     1.0 |    0.0 |       0.0 |     0.0 | 0.0 |    0.0 |   0.0 |  1.0 |     0.0 |    1.0 |\n",
        "\n",
        "``\n",
        "``"
      ]
    },
    {
      "cell_type": "markdown",
      "metadata": {
        "id": "ZqgW4Ni4t0xC"
      },
      "source": [
        "` `  \n",
        "` ` \n",
        "\n",
        "**Ejercicio 5 - *Calcular IDF* (0.5 punto):**\n",
        "\n",
        "\n",
        "Implementar `calc_idf(dataset_bow)`. Este debe retornar un diccionario en donde las llaves sean las palabras y los valores sean el calculo de cada idf por palabra.\n",
        "\n",
        "Recordar que $idf_{t_i} = log_{10}\\frac{N}{n_i}$ con $N = $ número de documentos y $n_i = $ Número de documentos que contienen la palabra $t_i$ "
      ]
    },
    {
      "cell_type": "code",
      "execution_count": 21,
      "metadata": {
        "id": "thhDY1-Ht6T5"
      },
      "outputs": [],
      "source": [
        "def calc_idf(dataset_bow):\n",
        "    ### Aquí inicia tu código ###\n",
        "\n",
        "    idf_dic = {}\n",
        "    doc_num = len(dataset_bow.index)\n",
        "    for columnas in dataset_bow:\n",
        "      n_i = (dataset_bow[columnas] > 0)*1\n",
        "      idf_dic[columnas] = np.log10(doc_num/n_i.sum())\n",
        "    \n",
        "    return idf_dic\n",
        "    ### Aquí termina tu código ###"
      ]
    },
    {
      "cell_type": "markdown",
      "metadata": {
        "id": "yR_j3pYemcAc"
      },
      "source": [
        "***Test:***"
      ]
    },
    {
      "cell_type": "code",
      "execution_count": 22,
      "metadata": {
        "colab": {
          "base_uri": "https://localhost:8080/"
        },
        "id": "ro-OMGpduC0R",
        "outputId": "593d9c5d-86e9-4c47-a022-b39eb7c00244"
      },
      "outputs": [
        {
          "data": {
            "text/plain": [
              "{'El': 0.0,\n",
              " 'perro': 0.3010299956639812,\n",
              " 'se': 0.0,\n",
              " 'come': 0.17609125905568124,\n",
              " 'la': 0.17609125905568124,\n",
              " 'comida': 0.17609125905568124,\n",
              " 'y': 0.0,\n",
              " 'después': 0.0,\n",
              " 'duerme': 0.47712125471966244,\n",
              " 'despierta': 0.47712125471966244,\n",
              " 'empieza': 0.47712125471966244,\n",
              " 'a': 0.47712125471966244,\n",
              " 'ladrar': 0.7781512503836436,\n",
              " 'ladra': 0.7781512503836436,\n",
              " 'gato': 0.3010299956639812,\n",
              " 'maullar': 0.7781512503836436,\n",
              " 'maulla': 0.7781512503836436}"
            ]
          },
          "execution_count": 22,
          "metadata": {},
          "output_type": "execute_result"
        }
      ],
      "source": [
        "idf = calc_idf(dataset_bow)\n",
        "idf"
      ]
    },
    {
      "cell_type": "markdown",
      "metadata": {
        "id": "Ioy_HicQDr-a"
      },
      "source": [
        "***Resultado esperado***: \n",
        "\n",
        "```python\n",
        "{'El': 0.0, \n",
        " 'a': 0.47712125471966244,\n",
        " 'come': 0.17609125905568124,\n",
        " 'comida': 0.17609125905568124,\n",
        " 'despierta': 0.47712125471966244,\n",
        " 'después': 0.0,\n",
        " 'duerme': 0.47712125471966244,\n",
        " 'empieza': 0.47712125471966244,\n",
        " 'gato': 0.3010299956639812,\n",
        " 'la': 0.17609125905568124,\n",
        " 'ladra': 0.7781512503836436,\n",
        " 'ladrar': 0.7781512503836436,\n",
        " 'maulla': 0.7781512503836436,\n",
        " 'maullar': 0.7781512503836436,\n",
        " 'perro': 0.3010299956639812,\n",
        " 'se': 0.0,\n",
        " 'y': 0.0}\n",
        "```"
      ]
    },
    {
      "cell_type": "markdown",
      "metadata": {
        "id": "IzKAzJtSJ7gx"
      },
      "source": [
        "Puede notar el bajo puntaje otorgado a las palabras que más se repiten! 😮"
      ]
    },
    {
      "cell_type": "markdown",
      "metadata": {
        "id": "D17lm6l9uJPo"
      },
      "source": [
        "**Ejercicio 6 - *Calcular TF-IDF & concluir similitud de documentos.* (1 punto)**\n"
      ]
    },
    {
      "cell_type": "markdown",
      "metadata": {
        "id": "bc7FTQ19Kcwo"
      },
      "source": [
        "Programe la función `calc_tf_idf(tf, idf)` que entrega el dataframe TF-IDF asociado al dataset que estamos analizando."
      ]
    },
    {
      "cell_type": "code",
      "execution_count": 23,
      "metadata": {
        "id": "9knMl0KguMwo"
      },
      "outputs": [],
      "source": [
        "def calc_tf_idf(tf, idf):\n",
        "    ### Aquí inicia tu código ###\n",
        "\n",
        "    return tf*idf\n",
        "\n",
        "    ### Aquí termina tu código ### "
      ]
    },
    {
      "cell_type": "markdown",
      "metadata": {
        "id": "tRzIr1nQmepp"
      },
      "source": [
        "***Test.***"
      ]
    },
    {
      "cell_type": "code",
      "execution_count": 24,
      "metadata": {
        "colab": {
          "base_uri": "https://localhost:8080/",
          "height": 237
        },
        "id": "H8z6jaq2uPEo",
        "outputId": "c7e13268-46ea-4da1-9cd3-eb098daf6b2a"
      },
      "outputs": [
        {
          "data": {
            "text/html": [
              "<div>\n",
              "<style scoped>\n",
              "    .dataframe tbody tr th:only-of-type {\n",
              "        vertical-align: middle;\n",
              "    }\n",
              "\n",
              "    .dataframe tbody tr th {\n",
              "        vertical-align: top;\n",
              "    }\n",
              "\n",
              "    .dataframe thead th {\n",
              "        text-align: right;\n",
              "    }\n",
              "</style>\n",
              "<table border=\"1\" class=\"dataframe\">\n",
              "  <thead>\n",
              "    <tr style=\"text-align: right;\">\n",
              "      <th></th>\n",
              "      <th>El</th>\n",
              "      <th>perro</th>\n",
              "      <th>se</th>\n",
              "      <th>come</th>\n",
              "      <th>la</th>\n",
              "      <th>comida</th>\n",
              "      <th>y</th>\n",
              "      <th>después</th>\n",
              "      <th>duerme</th>\n",
              "      <th>despierta</th>\n",
              "      <th>empieza</th>\n",
              "      <th>a</th>\n",
              "      <th>ladrar</th>\n",
              "      <th>ladra</th>\n",
              "      <th>gato</th>\n",
              "      <th>maullar</th>\n",
              "      <th>maulla</th>\n",
              "    </tr>\n",
              "  </thead>\n",
              "  <tbody>\n",
              "    <tr>\n",
              "      <th>d0</th>\n",
              "      <td>0.0</td>\n",
              "      <td>0.150515</td>\n",
              "      <td>0.0</td>\n",
              "      <td>0.088046</td>\n",
              "      <td>0.088046</td>\n",
              "      <td>0.088046</td>\n",
              "      <td>0.0</td>\n",
              "      <td>0.0</td>\n",
              "      <td>0.238561</td>\n",
              "      <td>0.000000</td>\n",
              "      <td>0.000000</td>\n",
              "      <td>0.000000</td>\n",
              "      <td>0.000000</td>\n",
              "      <td>0.000000</td>\n",
              "      <td>0.000000</td>\n",
              "      <td>0.000000</td>\n",
              "      <td>0.000000</td>\n",
              "    </tr>\n",
              "    <tr>\n",
              "      <th>d1</th>\n",
              "      <td>0.0</td>\n",
              "      <td>0.301030</td>\n",
              "      <td>0.0</td>\n",
              "      <td>0.000000</td>\n",
              "      <td>0.000000</td>\n",
              "      <td>0.000000</td>\n",
              "      <td>0.0</td>\n",
              "      <td>0.0</td>\n",
              "      <td>0.000000</td>\n",
              "      <td>0.477121</td>\n",
              "      <td>0.477121</td>\n",
              "      <td>0.477121</td>\n",
              "      <td>0.778151</td>\n",
              "      <td>0.000000</td>\n",
              "      <td>0.000000</td>\n",
              "      <td>0.000000</td>\n",
              "      <td>0.000000</td>\n",
              "    </tr>\n",
              "    <tr>\n",
              "      <th>d2</th>\n",
              "      <td>0.0</td>\n",
              "      <td>0.301030</td>\n",
              "      <td>0.0</td>\n",
              "      <td>0.176091</td>\n",
              "      <td>0.176091</td>\n",
              "      <td>0.176091</td>\n",
              "      <td>0.0</td>\n",
              "      <td>0.0</td>\n",
              "      <td>0.000000</td>\n",
              "      <td>0.000000</td>\n",
              "      <td>0.000000</td>\n",
              "      <td>0.000000</td>\n",
              "      <td>0.000000</td>\n",
              "      <td>0.778151</td>\n",
              "      <td>0.000000</td>\n",
              "      <td>0.000000</td>\n",
              "      <td>0.000000</td>\n",
              "    </tr>\n",
              "    <tr>\n",
              "      <th>d3</th>\n",
              "      <td>0.0</td>\n",
              "      <td>0.000000</td>\n",
              "      <td>0.0</td>\n",
              "      <td>0.088046</td>\n",
              "      <td>0.088046</td>\n",
              "      <td>0.088046</td>\n",
              "      <td>0.0</td>\n",
              "      <td>0.0</td>\n",
              "      <td>0.238561</td>\n",
              "      <td>0.000000</td>\n",
              "      <td>0.000000</td>\n",
              "      <td>0.000000</td>\n",
              "      <td>0.000000</td>\n",
              "      <td>0.000000</td>\n",
              "      <td>0.150515</td>\n",
              "      <td>0.000000</td>\n",
              "      <td>0.000000</td>\n",
              "    </tr>\n",
              "    <tr>\n",
              "      <th>d4</th>\n",
              "      <td>0.0</td>\n",
              "      <td>0.000000</td>\n",
              "      <td>0.0</td>\n",
              "      <td>0.000000</td>\n",
              "      <td>0.000000</td>\n",
              "      <td>0.000000</td>\n",
              "      <td>0.0</td>\n",
              "      <td>0.0</td>\n",
              "      <td>0.000000</td>\n",
              "      <td>0.477121</td>\n",
              "      <td>0.477121</td>\n",
              "      <td>0.477121</td>\n",
              "      <td>0.000000</td>\n",
              "      <td>0.000000</td>\n",
              "      <td>0.301030</td>\n",
              "      <td>0.778151</td>\n",
              "      <td>0.000000</td>\n",
              "    </tr>\n",
              "    <tr>\n",
              "      <th>d5</th>\n",
              "      <td>0.0</td>\n",
              "      <td>0.000000</td>\n",
              "      <td>0.0</td>\n",
              "      <td>0.176091</td>\n",
              "      <td>0.176091</td>\n",
              "      <td>0.176091</td>\n",
              "      <td>0.0</td>\n",
              "      <td>0.0</td>\n",
              "      <td>0.000000</td>\n",
              "      <td>0.000000</td>\n",
              "      <td>0.000000</td>\n",
              "      <td>0.000000</td>\n",
              "      <td>0.000000</td>\n",
              "      <td>0.000000</td>\n",
              "      <td>0.301030</td>\n",
              "      <td>0.000000</td>\n",
              "      <td>0.778151</td>\n",
              "    </tr>\n",
              "  </tbody>\n",
              "</table>\n",
              "</div>"
            ],
            "text/plain": [
              "     El     perro   se      come        la    comida    y  después    duerme  \\\n",
              "d0  0.0  0.150515  0.0  0.088046  0.088046  0.088046  0.0      0.0  0.238561   \n",
              "d1  0.0  0.301030  0.0  0.000000  0.000000  0.000000  0.0      0.0  0.000000   \n",
              "d2  0.0  0.301030  0.0  0.176091  0.176091  0.176091  0.0      0.0  0.000000   \n",
              "d3  0.0  0.000000  0.0  0.088046  0.088046  0.088046  0.0      0.0  0.238561   \n",
              "d4  0.0  0.000000  0.0  0.000000  0.000000  0.000000  0.0      0.0  0.000000   \n",
              "d5  0.0  0.000000  0.0  0.176091  0.176091  0.176091  0.0      0.0  0.000000   \n",
              "\n",
              "    despierta   empieza         a    ladrar     ladra      gato   maullar  \\\n",
              "d0   0.000000  0.000000  0.000000  0.000000  0.000000  0.000000  0.000000   \n",
              "d1   0.477121  0.477121  0.477121  0.778151  0.000000  0.000000  0.000000   \n",
              "d2   0.000000  0.000000  0.000000  0.000000  0.778151  0.000000  0.000000   \n",
              "d3   0.000000  0.000000  0.000000  0.000000  0.000000  0.150515  0.000000   \n",
              "d4   0.477121  0.477121  0.477121  0.000000  0.000000  0.301030  0.778151   \n",
              "d5   0.000000  0.000000  0.000000  0.000000  0.000000  0.301030  0.000000   \n",
              "\n",
              "      maulla  \n",
              "d0  0.000000  \n",
              "d1  0.000000  \n",
              "d2  0.000000  \n",
              "d3  0.000000  \n",
              "d4  0.000000  \n",
              "d5  0.778151  "
            ]
          },
          "execution_count": 24,
          "metadata": {},
          "output_type": "execute_result"
        }
      ],
      "source": [
        "tf_idf = calc_tf_idf(tf, idf)\n",
        "tf_idf"
      ]
    },
    {
      "cell_type": "markdown",
      "metadata": {
        "id": "ZBG2qfwv_6HK"
      },
      "source": [
        "``\n",
        "``\n",
        "\n",
        "***Resultado esperado***: \n",
        "\n",
        "|    |  El |    perro |  se |     come |       la |   comida |   y | después |   duerme | despierta |  empieza |        a |   ladrar |    ladra |     gato |  maullar |   maulla |\n",
        "|----|----:|---------:|----:|---------:|---------:|---------:|----:|--------:|---------:|----------:|---------:|---------:|---------:|---------:|---------:|---------:|---------:|\n",
        "| d0 | 0.0 | 0.150515 | 0.0 | 0.088046 | 0.088046 | 0.088046 | 0.0 |     0.0 | 0.238561 |  0.000000 | 0.000000 | 0.000000 | 0.000000 | 0.000000 | 0.000000 | 0.000000 | 0.000000 |\n",
        "| d1 | 0.0 | 0.301030 | 0.0 | 0.000000 | 0.000000 | 0.000000 | 0.0 |     0.0 | 0.000000 |  0.477121 | 0.477121 | 0.477121 | 0.778151 | 0.000000 | 0.000000 | 0.000000 | 0.000000 |\n",
        "| d2 | 0.0 | 0.301030 | 0.0 | 0.176091 | 0.176091 | 0.176091 | 0.0 |     0.0 | 0.000000 |  0.000000 | 0.000000 | 0.000000 | 0.000000 | 0.778151 | 0.000000 | 0.000000 | 0.000000 |\n",
        "| d3 | 0.0 | 0.000000 | 0.0 | 0.088046 | 0.088046 | 0.088046 | 0.0 |     0.0 | 0.238561 |  0.000000 | 0.000000 | 0.000000 | 0.000000 | 0.000000 | 0.150515 | 0.000000 | 0.000000 |\n",
        "| d4 | 0.0 | 0.000000 | 0.0 | 0.000000 | 0.000000 | 0.000000 | 0.0 |     0.0 | 0.000000 |  0.477121 | 0.477121 | 0.477121 | 0.000000 | 0.000000 | 0.301030 | 0.778151 | 0.000000 |\n",
        "| d5 | 0.0 | 0.000000 | 0.0 | 0.176091 | 0.176091 | 0.176091 | 0.0 |     0.0 | 0.000000 |  0.000000 | 0.000000 | 0.000000 | 0.000000 | 0.000000 | 0.301030 | 0.000000 | 0.778151 |\n",
        "\n",
        "\n",
        "``\n",
        "``"
      ]
    },
    {
      "cell_type": "markdown",
      "metadata": {
        "id": "WmVlbpzMp5NU"
      },
      "source": [
        "Ahora que tenemos el dataframe de TF-IDF, nos queda calcular la similitud coseno entre todos los vectores. Notar que la matriz resultante será una matriz simétrica. Implemente la función *cosine_similarity(v1, v2)* que recibe dos vectores (v1 y v2) y calcula la similitud coseno entre ambos vectores. Concluya cuáles son los dos documentos más similares."
      ]
    },
    {
      "cell_type": "code",
      "execution_count": 86,
      "metadata": {},
      "outputs": [
        {
          "data": {
            "text/plain": [
              "array([[0.     , 0.87968, 0.67766, 0.22033, 1.     , 0.83672],\n",
              "       [0.87968, 0.     , 0.91314, 1.     , 0.50479, 1.     ],\n",
              "       [0.67766, 0.91314, 0.     , 0.83672, 1.     , 0.88212],\n",
              "       [0.22033, 1.     , 0.83672, 0.     , 0.87968, 0.67766],\n",
              "       [1.     , 0.50479, 1.     , 0.87968, 0.     , 0.91314],\n",
              "       [0.83672, 1.     , 0.88212, 0.67766, 0.91314, 0.     ]])"
            ]
          },
          "metadata": {},
          "output_type": "display_data"
        }
      ],
      "source": [
        "def cosine_similarity(v1, v2):\n",
        "  ### Aquí inicia tu código ###\n",
        "\n",
        "  numerador_distancia_coseno = (v1*v2).sum()\n",
        "  denominador_distancia_coseno = (np.sqrt((v1**2).sum())) * (np.sqrt((v2**2).sum()))\n",
        "  \n",
        "  return abs(round(1 - (numerador_distancia_coseno/denominador_distancia_coseno),5))\n",
        "\n",
        "  ### Aquí termina tu código ### \n",
        "\n",
        "similarity_matrix = np.zeros((6,6))\n",
        "for i, v1 in enumerate(tf_idf.index.values):\n",
        "  for j, v2 in enumerate(tf_idf.index.values):\n",
        "      similarity = cosine_similarity(tf_idf.loc[v1].values, tf_idf.loc[v2].values)\n",
        "      similarity_matrix[i][j] = similarity\n",
        "\n",
        "display(similarity_matrix)"
      ]
    },
    {
      "attachments": {},
      "cell_type": "markdown",
      "metadata": {},
      "source": [
        "Como sabemos en la similitud coseno, entre más grande sea el valor más similitud tendrán ambos vectores. En este caso existen 2 donde tienen la misma similitud, los cuales se muestran a continuación:\n",
        "\n",
        "- d1 y d2, con una similitud de 0.91314\n",
        "- d4 y d5, con una similitud de 0.91314"
      ]
    },
    {
      "cell_type": "markdown",
      "metadata": {
        "id": "FUAc1zX0Lg16"
      },
      "source": [
        "![gato](https://live.staticflickr.com/4652/38904147065_0b6c446945_b.jpg)"
      ]
    },
    {
      "cell_type": "markdown",
      "metadata": {
        "id": "s1A95IaXLHaB"
      },
      "source": [
        "**Cualquier recomendación que nos quisieran dar para una futura tarea es bienvenid@!**"
      ]
    }
  ],
  "metadata": {
    "colab": {
      "provenance": []
    },
    "kernelspec": {
      "display_name": "Python 3",
      "name": "python3"
    },
    "language_info": {
      "codemirror_mode": {
        "name": "ipython",
        "version": 3
      },
      "file_extension": ".py",
      "mimetype": "text/x-python",
      "name": "python",
      "nbconvert_exporter": "python",
      "pygments_lexer": "ipython3",
      "version": "3.8.5"
    }
  },
  "nbformat": 4,
  "nbformat_minor": 0
}
